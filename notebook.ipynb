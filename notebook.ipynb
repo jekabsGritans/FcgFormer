{
 "cells": [
  {
   "cell_type": "code",
   "execution_count": 6,
   "id": "c149b925",
   "metadata": {},
   "outputs": [],
   "source": [
    "import numpy as np\n",
    "from src.predictor import PredictorCls\n",
    "from utils.fcgUtils.plotutils import plot_self_attention_map\n",
    "\n",
    "default_config = {\n",
    "    'project':        'FcgFormer',\n",
    "    'model':          'lycaoduong/FcgFormer',\n",
    "    'ckpt':           None,\n",
    "    'device':         'cpu',\n",
    "    'input_path':     './dataset/test.npy',\n",
    "    'threshold':      0.5,\n",
    "    'plot_attention': False,\n",
    "}"
   ]
  },
  {
   "cell_type": "code",
   "execution_count": 7,
   "id": "74e3e560",
   "metadata": {},
   "outputs": [],
   "source": [
    "# load predictor\n",
    "engine = PredictorCls(\n",
    "    model_path=default_config['model'],\n",
    "    device=default_config['device'],\n",
    "    ckpt=default_config['ckpt']\n",
    ")"
   ]
  },
  {
   "cell_type": "code",
   "execution_count": null,
   "id": "d0ed1cce",
   "metadata": {},
   "outputs": [
    {
     "ename": "FileNotFoundError",
     "evalue": "[Errno 2] No such file or directory: './dataset/test.npy'",
     "output_type": "error",
     "traceback": [
      "\u001b[0;31m---------------------------------------------------------------------------\u001b[0m",
      "\u001b[0;31mFileNotFoundError\u001b[0m                         Traceback (most recent call last)",
      "Cell \u001b[0;32mIn[8], line 28\u001b[0m\n\u001b[1;32m     25\u001b[0m     \u001b[38;5;28;01mreturn\u001b[39;00m fcn_groups, probabilities\n\u001b[1;32m     27\u001b[0m \u001b[38;5;66;03m# e.g. run on a different file, with a higher threshold and plot attention\u001b[39;00m\n\u001b[0;32m---> 28\u001b[0m fcn_groups2, probs2 \u001b[38;5;241m=\u001b[39m \u001b[43mpredict\u001b[49m\u001b[43m(\u001b[49m\n\u001b[1;32m     29\u001b[0m \u001b[43m    \u001b[49m\u001b[43mspectra_path\u001b[49m\u001b[38;5;241;43m=\u001b[39;49m\u001b[38;5;124;43m'\u001b[39;49m\u001b[38;5;124;43m./dataset/test.npy\u001b[39;49m\u001b[38;5;124;43m'\u001b[39;49m\u001b[43m,\u001b[49m\n\u001b[1;32m     30\u001b[0m \u001b[43m    \u001b[49m\u001b[43mthreshold\u001b[49m\u001b[38;5;241;43m=\u001b[39;49m\u001b[38;5;241;43m0.5\u001b[39;49m\u001b[43m,\u001b[49m\n\u001b[1;32m     31\u001b[0m \u001b[43m    \u001b[49m\u001b[43mplot_attention\u001b[49m\u001b[38;5;241;43m=\u001b[39;49m\u001b[38;5;28;43;01mTrue\u001b[39;49;00m\n\u001b[1;32m     32\u001b[0m \u001b[43m)\u001b[49m\n",
      "Cell \u001b[0;32mIn[8], line 13\u001b[0m, in \u001b[0;36mpredict\u001b[0;34m(spectra_path, threshold, plot_attention, engine)\u001b[0m\n\u001b[1;32m     10\u001b[0m plot_att   \u001b[38;5;241m=\u001b[39m plot_attention  \u001b[38;5;28;01mif\u001b[39;00m plot_attention \u001b[38;5;129;01mis\u001b[39;00m \u001b[38;5;129;01mnot\u001b[39;00m \u001b[38;5;28;01mNone\u001b[39;00m \u001b[38;5;28;01melse\u001b[39;00m default_config[\u001b[38;5;124m'\u001b[39m\u001b[38;5;124mplot_attention\u001b[39m\u001b[38;5;124m'\u001b[39m]\n\u001b[1;32m     12\u001b[0m \u001b[38;5;66;03m# run\u001b[39;00m\n\u001b[0;32m---> 13\u001b[0m spectra    \u001b[38;5;241m=\u001b[39m \u001b[43mnp\u001b[49m\u001b[38;5;241;43m.\u001b[39;49m\u001b[43mload\u001b[49m\u001b[43m(\u001b[49m\u001b[43mpath\u001b[49m\u001b[43m)\u001b[49m\n\u001b[1;32m     14\u001b[0m outputs    \u001b[38;5;241m=\u001b[39m engine(spectra)\n\u001b[1;32m     15\u001b[0m fcn_groups, probabilities \u001b[38;5;241m=\u001b[39m engine\u001b[38;5;241m.\u001b[39mget_result(outputs, th\u001b[38;5;241m=\u001b[39mth, pos_only\u001b[38;5;241m=\u001b[39m\u001b[38;5;28;01mTrue\u001b[39;00m)\n",
      "File \u001b[0;32m~/miniconda3/envs/fcgformer/lib/python3.9/site-packages/numpy/lib/npyio.py:427\u001b[0m, in \u001b[0;36mload\u001b[0;34m(file, mmap_mode, allow_pickle, fix_imports, encoding, max_header_size)\u001b[0m\n\u001b[1;32m    425\u001b[0m     own_fid \u001b[38;5;241m=\u001b[39m \u001b[38;5;28;01mFalse\u001b[39;00m\n\u001b[1;32m    426\u001b[0m \u001b[38;5;28;01melse\u001b[39;00m:\n\u001b[0;32m--> 427\u001b[0m     fid \u001b[38;5;241m=\u001b[39m stack\u001b[38;5;241m.\u001b[39menter_context(\u001b[38;5;28;43mopen\u001b[39;49m\u001b[43m(\u001b[49m\u001b[43mos_fspath\u001b[49m\u001b[43m(\u001b[49m\u001b[43mfile\u001b[49m\u001b[43m)\u001b[49m\u001b[43m,\u001b[49m\u001b[43m \u001b[49m\u001b[38;5;124;43m\"\u001b[39;49m\u001b[38;5;124;43mrb\u001b[39;49m\u001b[38;5;124;43m\"\u001b[39;49m\u001b[43m)\u001b[49m)\n\u001b[1;32m    428\u001b[0m     own_fid \u001b[38;5;241m=\u001b[39m \u001b[38;5;28;01mTrue\u001b[39;00m\n\u001b[1;32m    430\u001b[0m \u001b[38;5;66;03m# Code to distinguish from NumPy binary files and pickles.\u001b[39;00m\n",
      "\u001b[0;31mFileNotFoundError\u001b[0m: [Errno 2] No such file or directory: './dataset/test.npy'"
     ]
    }
   ],
   "source": [
    "def predict(spectra_path=None, threshold=None, plot_attention=None, engine=engine):\n",
    "    \"\"\"\n",
    "    Load spectra from `spectra_path`, run the PredictorCls engine,\n",
    "    print & return (fcn_groups, probabilities), and optionally plot attention.\n",
    "    Any argument left as None will fall back to default_config.\n",
    "    \"\"\"\n",
    "    # resolve parameters\n",
    "    path       = spectra_path    or default_config['input_path']\n",
    "    th         = threshold       if threshold is not None else default_config['threshold']\n",
    "    plot_att   = plot_attention  if plot_attention is not None else default_config['plot_attention']\n",
    "\n",
    "    # run\n",
    "    spectra    = np.load(path)\n",
    "    outputs    = engine(spectra)\n",
    "    fcn_groups, probabilities = engine.get_result(outputs, th=th, pos_only=True)\n",
    "\n",
    "    # display\n",
    "    print(\"Functional groups:\", fcn_groups)\n",
    "    print(\"Probabilities:    \", probabilities)\n",
    "\n",
    "    if plot_att:\n",
    "        att = engine.get_attention()\n",
    "        plot_self_attention_map(spectra, att)\n",
    "\n",
    "    return fcn_groups, probabilities\n",
    "\n",
    "# e.g. run on a different file, with a higher threshold and plot attention\n",
    "fcn_groups2, probs2 = predict(\n",
    "    spectra_path='./test.npy',\n",
    "    threshold=0.5,\n",
    "    plot_attention=True\n",
    ")"
   ]
  },
  {
   "cell_type": "code",
   "execution_count": null,
   "id": "1a8a215c",
   "metadata": {},
   "outputs": [
    {
     "name": "stdout",
     "output_type": "stream",
     "text": [
      "Functional groups: ['methyl', 'alkene', 'alcohols', 'aromatics', 'carboxylic acids', 'ether']\n",
      "Probabilities:     [0.9977794, 0.8825716, 0.9999901, 0.9999999, 0.9999964, 0.81813896]\n"
     ]
    }
   ],
   "source": []
  },
  {
   "cell_type": "code",
   "execution_count": null,
   "id": "0ce3782b",
   "metadata": {},
   "outputs": [],
   "source": []
  }
 ],
 "metadata": {
  "kernelspec": {
   "display_name": "fcgformer",
   "language": "python",
   "name": "python3"
  },
  "language_info": {
   "codemirror_mode": {
    "name": "ipython",
    "version": 3
   },
   "file_extension": ".py",
   "mimetype": "text/x-python",
   "name": "python",
   "nbconvert_exporter": "python",
   "pygments_lexer": "ipython3",
   "version": "3.9.21"
  }
 },
 "nbformat": 4,
 "nbformat_minor": 5
}
